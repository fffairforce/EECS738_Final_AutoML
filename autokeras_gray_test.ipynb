{
  "nbformat": 4,
  "nbformat_minor": 0,
  "metadata": {
    "colab": {
      "name": "autokeras_gray_test.ipynb",
      "provenance": []
    },
    "kernelspec": {
      "name": "python3",
      "display_name": "Python 3"
    },
    "language_info": {
      "name": "python"
    },
    "accelerator": "GPU"
  },
  "cells": [
    {
      "cell_type": "code",
      "metadata": {
        "colab": {
          "base_uri": "https://localhost:8080/"
        },
        "id": "jWroyO2y1yvv",
        "outputId": "87b323be-37eb-461f-d171-31a677516d87"
      },
      "source": [
        "!pip install autokeras"
      ],
      "execution_count": 1,
      "outputs": [
        {
          "output_type": "stream",
          "text": [
            "Collecting autokeras\n",
            "\u001b[?25l  Downloading https://files.pythonhosted.org/packages/09/12/cf698586ccc8245f08d1843dcafb65b064a2e9e2923b889dc58e1019f099/autokeras-1.0.12-py3-none-any.whl (164kB)\n",
            "\r\u001b[K     |██                              | 10kB 21.9MB/s eta 0:00:01\r\u001b[K     |████                            | 20kB 28.9MB/s eta 0:00:01\r\u001b[K     |██████                          | 30kB 23.0MB/s eta 0:00:01\r\u001b[K     |████████                        | 40kB 26.3MB/s eta 0:00:01\r\u001b[K     |██████████                      | 51kB 26.8MB/s eta 0:00:01\r\u001b[K     |████████████                    | 61kB 29.3MB/s eta 0:00:01\r\u001b[K     |██████████████                  | 71kB 19.6MB/s eta 0:00:01\r\u001b[K     |████████████████                | 81kB 21.0MB/s eta 0:00:01\r\u001b[K     |██████████████████              | 92kB 19.3MB/s eta 0:00:01\r\u001b[K     |████████████████████            | 102kB 19.3MB/s eta 0:00:01\r\u001b[K     |██████████████████████          | 112kB 19.3MB/s eta 0:00:01\r\u001b[K     |████████████████████████        | 122kB 19.3MB/s eta 0:00:01\r\u001b[K     |██████████████████████████      | 133kB 19.3MB/s eta 0:00:01\r\u001b[K     |████████████████████████████    | 143kB 19.3MB/s eta 0:00:01\r\u001b[K     |██████████████████████████████  | 153kB 19.3MB/s eta 0:00:01\r\u001b[K     |████████████████████████████████| 163kB 19.3MB/s eta 0:00:01\r\u001b[K     |████████████████████████████████| 174kB 19.3MB/s \n",
            "\u001b[?25hRequirement already satisfied: packaging in /usr/local/lib/python3.7/dist-packages (from autokeras) (20.9)\n",
            "Requirement already satisfied: pandas in /usr/local/lib/python3.7/dist-packages (from autokeras) (1.1.5)\n",
            "Requirement already satisfied: scikit-learn in /usr/local/lib/python3.7/dist-packages (from autokeras) (0.22.2.post1)\n",
            "Requirement already satisfied: tensorflow>=2.3.0 in /usr/local/lib/python3.7/dist-packages (from autokeras) (2.4.1)\n",
            "Collecting keras-tuner>=1.0.2\n",
            "\u001b[?25l  Downloading https://files.pythonhosted.org/packages/20/ec/1ef246787174b1e2bb591c95f29d3c1310070cad877824f907faba3dade9/keras-tuner-1.0.2.tar.gz (62kB)\n",
            "\u001b[K     |████████████████████████████████| 71kB 9.5MB/s \n",
            "\u001b[?25hRequirement already satisfied: pyparsing>=2.0.2 in /usr/local/lib/python3.7/dist-packages (from packaging->autokeras) (2.4.7)\n",
            "Requirement already satisfied: python-dateutil>=2.7.3 in /usr/local/lib/python3.7/dist-packages (from pandas->autokeras) (2.8.1)\n",
            "Requirement already satisfied: pytz>=2017.2 in /usr/local/lib/python3.7/dist-packages (from pandas->autokeras) (2018.9)\n",
            "Requirement already satisfied: numpy>=1.15.4 in /usr/local/lib/python3.7/dist-packages (from pandas->autokeras) (1.19.5)\n",
            "Requirement already satisfied: scipy>=0.17.0 in /usr/local/lib/python3.7/dist-packages (from scikit-learn->autokeras) (1.4.1)\n",
            "Requirement already satisfied: joblib>=0.11 in /usr/local/lib/python3.7/dist-packages (from scikit-learn->autokeras) (1.0.1)\n",
            "Requirement already satisfied: opt-einsum~=3.3.0 in /usr/local/lib/python3.7/dist-packages (from tensorflow>=2.3.0->autokeras) (3.3.0)\n",
            "Requirement already satisfied: h5py~=2.10.0 in /usr/local/lib/python3.7/dist-packages (from tensorflow>=2.3.0->autokeras) (2.10.0)\n",
            "Requirement already satisfied: tensorboard~=2.4 in /usr/local/lib/python3.7/dist-packages (from tensorflow>=2.3.0->autokeras) (2.4.1)\n",
            "Requirement already satisfied: typing-extensions~=3.7.4 in /usr/local/lib/python3.7/dist-packages (from tensorflow>=2.3.0->autokeras) (3.7.4.3)\n",
            "Requirement already satisfied: astunparse~=1.6.3 in /usr/local/lib/python3.7/dist-packages (from tensorflow>=2.3.0->autokeras) (1.6.3)\n",
            "Requirement already satisfied: six~=1.15.0 in /usr/local/lib/python3.7/dist-packages (from tensorflow>=2.3.0->autokeras) (1.15.0)\n",
            "Requirement already satisfied: termcolor~=1.1.0 in /usr/local/lib/python3.7/dist-packages (from tensorflow>=2.3.0->autokeras) (1.1.0)\n",
            "Requirement already satisfied: grpcio~=1.32.0 in /usr/local/lib/python3.7/dist-packages (from tensorflow>=2.3.0->autokeras) (1.32.0)\n",
            "Requirement already satisfied: tensorflow-estimator<2.5.0,>=2.4.0 in /usr/local/lib/python3.7/dist-packages (from tensorflow>=2.3.0->autokeras) (2.4.0)\n",
            "Requirement already satisfied: google-pasta~=0.2 in /usr/local/lib/python3.7/dist-packages (from tensorflow>=2.3.0->autokeras) (0.2.0)\n",
            "Requirement already satisfied: protobuf>=3.9.2 in /usr/local/lib/python3.7/dist-packages (from tensorflow>=2.3.0->autokeras) (3.12.4)\n",
            "Requirement already satisfied: keras-preprocessing~=1.1.2 in /usr/local/lib/python3.7/dist-packages (from tensorflow>=2.3.0->autokeras) (1.1.2)\n",
            "Requirement already satisfied: gast==0.3.3 in /usr/local/lib/python3.7/dist-packages (from tensorflow>=2.3.0->autokeras) (0.3.3)\n",
            "Requirement already satisfied: wheel~=0.35 in /usr/local/lib/python3.7/dist-packages (from tensorflow>=2.3.0->autokeras) (0.36.2)\n",
            "Requirement already satisfied: wrapt~=1.12.1 in /usr/local/lib/python3.7/dist-packages (from tensorflow>=2.3.0->autokeras) (1.12.1)\n",
            "Requirement already satisfied: absl-py~=0.10 in /usr/local/lib/python3.7/dist-packages (from tensorflow>=2.3.0->autokeras) (0.12.0)\n",
            "Requirement already satisfied: flatbuffers~=1.12.0 in /usr/local/lib/python3.7/dist-packages (from tensorflow>=2.3.0->autokeras) (1.12)\n",
            "Requirement already satisfied: future in /usr/local/lib/python3.7/dist-packages (from keras-tuner>=1.0.2->autokeras) (0.16.0)\n",
            "Requirement already satisfied: tabulate in /usr/local/lib/python3.7/dist-packages (from keras-tuner>=1.0.2->autokeras) (0.8.9)\n",
            "Collecting terminaltables\n",
            "  Downloading https://files.pythonhosted.org/packages/9b/c4/4a21174f32f8a7e1104798c445dacdc1d4df86f2f26722767034e4de4bff/terminaltables-3.1.0.tar.gz\n",
            "Collecting colorama\n",
            "  Downloading https://files.pythonhosted.org/packages/44/98/5b86278fbbf250d239ae0ecb724f8572af1c91f4a11edf4d36a206189440/colorama-0.4.4-py2.py3-none-any.whl\n",
            "Requirement already satisfied: tqdm in /usr/local/lib/python3.7/dist-packages (from keras-tuner>=1.0.2->autokeras) (4.41.1)\n",
            "Requirement already satisfied: requests in /usr/local/lib/python3.7/dist-packages (from keras-tuner>=1.0.2->autokeras) (2.23.0)\n",
            "Requirement already satisfied: markdown>=2.6.8 in /usr/local/lib/python3.7/dist-packages (from tensorboard~=2.4->tensorflow>=2.3.0->autokeras) (3.3.4)\n",
            "Requirement already satisfied: werkzeug>=0.11.15 in /usr/local/lib/python3.7/dist-packages (from tensorboard~=2.4->tensorflow>=2.3.0->autokeras) (1.0.1)\n",
            "Requirement already satisfied: google-auth<2,>=1.6.3 in /usr/local/lib/python3.7/dist-packages (from tensorboard~=2.4->tensorflow>=2.3.0->autokeras) (1.28.1)\n",
            "Requirement already satisfied: google-auth-oauthlib<0.5,>=0.4.1 in /usr/local/lib/python3.7/dist-packages (from tensorboard~=2.4->tensorflow>=2.3.0->autokeras) (0.4.4)\n",
            "Requirement already satisfied: setuptools>=41.0.0 in /usr/local/lib/python3.7/dist-packages (from tensorboard~=2.4->tensorflow>=2.3.0->autokeras) (56.1.0)\n",
            "Requirement already satisfied: tensorboard-plugin-wit>=1.6.0 in /usr/local/lib/python3.7/dist-packages (from tensorboard~=2.4->tensorflow>=2.3.0->autokeras) (1.8.0)\n",
            "Requirement already satisfied: certifi>=2017.4.17 in /usr/local/lib/python3.7/dist-packages (from requests->keras-tuner>=1.0.2->autokeras) (2020.12.5)\n",
            "Requirement already satisfied: chardet<4,>=3.0.2 in /usr/local/lib/python3.7/dist-packages (from requests->keras-tuner>=1.0.2->autokeras) (3.0.4)\n",
            "Requirement already satisfied: idna<3,>=2.5 in /usr/local/lib/python3.7/dist-packages (from requests->keras-tuner>=1.0.2->autokeras) (2.10)\n",
            "Requirement already satisfied: urllib3!=1.25.0,!=1.25.1,<1.26,>=1.21.1 in /usr/local/lib/python3.7/dist-packages (from requests->keras-tuner>=1.0.2->autokeras) (1.24.3)\n",
            "Requirement already satisfied: importlib-metadata; python_version < \"3.8\" in /usr/local/lib/python3.7/dist-packages (from markdown>=2.6.8->tensorboard~=2.4->tensorflow>=2.3.0->autokeras) (3.10.1)\n",
            "Requirement already satisfied: rsa<5,>=3.1.4; python_version >= \"3.6\" in /usr/local/lib/python3.7/dist-packages (from google-auth<2,>=1.6.3->tensorboard~=2.4->tensorflow>=2.3.0->autokeras) (4.7.2)\n",
            "Requirement already satisfied: cachetools<5.0,>=2.0.0 in /usr/local/lib/python3.7/dist-packages (from google-auth<2,>=1.6.3->tensorboard~=2.4->tensorflow>=2.3.0->autokeras) (4.2.1)\n",
            "Requirement already satisfied: pyasn1-modules>=0.2.1 in /usr/local/lib/python3.7/dist-packages (from google-auth<2,>=1.6.3->tensorboard~=2.4->tensorflow>=2.3.0->autokeras) (0.2.8)\n",
            "Requirement already satisfied: requests-oauthlib>=0.7.0 in /usr/local/lib/python3.7/dist-packages (from google-auth-oauthlib<0.5,>=0.4.1->tensorboard~=2.4->tensorflow>=2.3.0->autokeras) (1.3.0)\n",
            "Requirement already satisfied: zipp>=0.5 in /usr/local/lib/python3.7/dist-packages (from importlib-metadata; python_version < \"3.8\"->markdown>=2.6.8->tensorboard~=2.4->tensorflow>=2.3.0->autokeras) (3.4.1)\n",
            "Requirement already satisfied: pyasn1>=0.1.3 in /usr/local/lib/python3.7/dist-packages (from rsa<5,>=3.1.4; python_version >= \"3.6\"->google-auth<2,>=1.6.3->tensorboard~=2.4->tensorflow>=2.3.0->autokeras) (0.4.8)\n",
            "Requirement already satisfied: oauthlib>=3.0.0 in /usr/local/lib/python3.7/dist-packages (from requests-oauthlib>=0.7.0->google-auth-oauthlib<0.5,>=0.4.1->tensorboard~=2.4->tensorflow>=2.3.0->autokeras) (3.1.0)\n",
            "Building wheels for collected packages: keras-tuner, terminaltables\n",
            "  Building wheel for keras-tuner (setup.py) ... \u001b[?25l\u001b[?25hdone\n",
            "  Created wheel for keras-tuner: filename=keras_tuner-1.0.2-cp37-none-any.whl size=78938 sha256=d4ef1fcc7ba006fe3cd3aaf6f8b2bd6f79b9c40fdd229e849d9915b5e616dade\n",
            "  Stored in directory: /root/.cache/pip/wheels/bb/a1/8a/7c3de0efb3707a1701b36ebbfdbc4e67aedf6d4943a1f463d6\n",
            "  Building wheel for terminaltables (setup.py) ... \u001b[?25l\u001b[?25hdone\n",
            "  Created wheel for terminaltables: filename=terminaltables-3.1.0-cp37-none-any.whl size=15356 sha256=8c775e86af84b748d8a8caaf4139a41a3af7e948997bb8217037dc6099c21525\n",
            "  Stored in directory: /root/.cache/pip/wheels/30/6b/50/6c75775b681fb36cdfac7f19799888ef9d8813aff9e379663e\n",
            "Successfully built keras-tuner terminaltables\n",
            "Installing collected packages: terminaltables, colorama, keras-tuner, autokeras\n",
            "Successfully installed autokeras-1.0.12 colorama-0.4.4 keras-tuner-1.0.2 terminaltables-3.1.0\n"
          ],
          "name": "stdout"
        }
      ]
    },
    {
      "cell_type": "code",
      "metadata": {
        "colab": {
          "base_uri": "https://localhost:8080/"
        },
        "id": "yM5Wizew1_qE",
        "outputId": "6ba185dc-c68f-4bf2-8c55-b9720763f03e"
      },
      "source": [
        "pip install clearml"
      ],
      "execution_count": 2,
      "outputs": [
        {
          "output_type": "stream",
          "text": [
            "Collecting clearml\n",
            "\u001b[?25l  Downloading https://files.pythonhosted.org/packages/61/da/00644c7b46a7ed36fed03d573d06158339862286a5218fbecc7718f043f6/clearml-1.0.2-py2.py3-none-any.whl (990kB)\n",
            "\u001b[K     |████████████████████████████████| 993kB 23.0MB/s \n",
            "\u001b[?25hRequirement already satisfied: numpy>=1.10 in /usr/local/lib/python3.7/dist-packages (from clearml) (1.19.5)\n",
            "Requirement already satisfied: python-dateutil>=2.6.1 in /usr/local/lib/python3.7/dist-packages (from clearml) (2.8.1)\n",
            "Collecting humanfriendly>=2.1\n",
            "\u001b[?25l  Downloading https://files.pythonhosted.org/packages/93/66/363d01a81da2108a5cf446daf619779f06d49a0c4426dd02b40734f10e2f/humanfriendly-9.1-py2.py3-none-any.whl (86kB)\n",
            "\u001b[K     |████████████████████████████████| 92kB 13.0MB/s \n",
            "\u001b[?25hCollecting pyjwt<3.0.0,>=1.6.4\n",
            "  Downloading https://files.pythonhosted.org/packages/3f/32/d5d3cab27fee7f6b22d7cd7507547ae45d52e26030fa77d1f83d0526c6e5/PyJWT-2.1.0-py3-none-any.whl\n",
            "Requirement already satisfied: requests>=2.20.0 in /usr/local/lib/python3.7/dist-packages (from clearml) (2.23.0)\n",
            "Requirement already satisfied: Pillow>=4.1.1 in /usr/local/lib/python3.7/dist-packages (from clearml) (7.1.2)\n",
            "Requirement already satisfied: pyparsing>=2.0.3 in /usr/local/lib/python3.7/dist-packages (from clearml) (2.4.7)\n",
            "Requirement already satisfied: psutil>=3.4.2 in /usr/local/lib/python3.7/dist-packages (from clearml) (5.4.8)\n",
            "Collecting furl>=2.0.0\n",
            "  Downloading https://files.pythonhosted.org/packages/12/18/b29367947b32b510cbbbfa86164929ceed069ff020f84a6dc780df5d6ba1/furl-2.1.2-py2.py3-none-any.whl\n",
            "Requirement already satisfied: future>=0.16.0 in /usr/local/lib/python3.7/dist-packages (from clearml) (0.16.0)\n",
            "Requirement already satisfied: attrs>=18.0 in /usr/local/lib/python3.7/dist-packages (from clearml) (20.3.0)\n",
            "Requirement already satisfied: urllib3>=1.21.1 in /usr/local/lib/python3.7/dist-packages (from clearml) (1.24.3)\n",
            "Requirement already satisfied: six>=1.11.0 in /usr/local/lib/python3.7/dist-packages (from clearml) (1.15.0)\n",
            "Requirement already satisfied: jsonschema>=2.6.0 in /usr/local/lib/python3.7/dist-packages (from clearml) (2.6.0)\n",
            "Requirement already satisfied: PyYAML>=3.12 in /usr/local/lib/python3.7/dist-packages (from clearml) (3.13)\n",
            "Collecting pathlib2>=2.3.0\n",
            "  Downloading https://files.pythonhosted.org/packages/e9/45/9c82d3666af4ef9f221cbb954e1d77ddbb513faf552aea6df5f37f1a4859/pathlib2-2.3.5-py2.py3-none-any.whl\n",
            "Requirement already satisfied: chardet<4,>=3.0.2 in /usr/local/lib/python3.7/dist-packages (from requests>=2.20.0->clearml) (3.0.4)\n",
            "Requirement already satisfied: certifi>=2017.4.17 in /usr/local/lib/python3.7/dist-packages (from requests>=2.20.0->clearml) (2020.12.5)\n",
            "Requirement already satisfied: idna<3,>=2.5 in /usr/local/lib/python3.7/dist-packages (from requests>=2.20.0->clearml) (2.10)\n",
            "Collecting orderedmultidict>=1.0.1\n",
            "  Downloading https://files.pythonhosted.org/packages/04/16/5e95c70bda8fe6ea715005c0db8e602400bdba50ae3c72cb380eba551289/orderedmultidict-1.0.1-py2.py3-none-any.whl\n",
            "Installing collected packages: humanfriendly, pyjwt, orderedmultidict, furl, pathlib2, clearml\n",
            "Successfully installed clearml-1.0.2 furl-2.1.2 humanfriendly-9.1 orderedmultidict-1.0.1 pathlib2-2.3.5 pyjwt-2.1.0\n"
          ],
          "name": "stdout"
        }
      ]
    },
    {
      "cell_type": "code",
      "metadata": {
        "id": "c-spgNwoSHXY",
        "colab": {
          "base_uri": "https://localhost:8080/"
        },
        "outputId": "f8b92137-c99e-4d05-fd63-99a305e3df73"
      },
      "source": [
        "from clearml import Task\n",
        "task = Task.init(project_name='automl', task_name='automl_gray_model')\n",
        "from tensorflow import keras\n"
      ],
      "execution_count": 3,
      "outputs": [
        {
          "output_type": "stream",
          "text": [
            "ClearML Task: created new task id=af7aec12664d4ca28c12fa475f1b1c33\n",
            "ClearML results page: https://demoapp.demo.clear.ml/projects/1be01d2f33074d8d89f15e62b3e4d864/experiments/af7aec12664d4ca28c12fa475f1b1c33/output/log\n",
            "2021-05-10 16:57:43,455 - clearml.Task - INFO - No repository found, storing script code instead\n"
          ],
          "name": "stdout"
        }
      ]
    },
    {
      "cell_type": "code",
      "metadata": {
        "colab": {
          "base_uri": "https://localhost:8080/",
          "height": 233
        },
        "id": "WuxPV8lu2Oir",
        "outputId": "9e98afad-77a3-4cc8-ee30-801e919e9d17"
      },
      "source": [
        "# data prep\n",
        "import pandas as pd\n",
        "import numpy as np\n",
        "import os\n",
        "import sys\n",
        "import cv2\n",
        "from  matplotlib import pyplot as plt\n",
        "import matplotlib.image as mpimg\n",
        "\n",
        "IMG_WIDTH=128\n",
        "IMG_HEIGHT=128\n",
        "img_folder= '/content/drive/My Drive/EECS738/flowers'# change\n",
        "\n",
        "test_class_name = []\n",
        "train_class_name = []\n",
        "\n",
        "test_image_3d_array = np.zeros((IMG_WIDTH,IMG_HEIGHT,4323))\n",
        "\n",
        "train_image_3d_array = np.zeros((IMG_WIDTH,IMG_HEIGHT,4323))\n",
        "\n",
        "i = 0\n",
        "test = 0\n",
        "train = 0\n",
        "for dir1 in os.listdir(img_folder):\n",
        "    for file in os.listdir(os.path.join(img_folder, dir1)):\n",
        "        if i % 5 == 0:\n",
        "            image_path = os.path.join(img_folder, dir1, file)\n",
        "            img = cv2.imread(image_path)\n",
        "            img = cv2.cvtColor(img, cv2.COLOR_BGR2GRAY)\n",
        "            img = cv2.resize(img, (IMG_HEIGHT, IMG_WIDTH),interpolation = cv2.INTER_AREA)\n",
        "\n",
        "            image=np.array(img)\n",
        "            image = image.astype('float32')\n",
        "            image /= 255\n",
        "            test_image_3d_array[:,:,test] = image\n",
        "            test_class_name.append(dir1)\n",
        "            i = i + 1\n",
        "            test += 1\n",
        "        else:\n",
        "            image_path = os.path.join(img_folder, dir1, file)\n",
        "            img = cv2.imread(image_path)\n",
        "            img = cv2.cvtColor(img, cv2.COLOR_BGR2GRAY)\n",
        "            img = cv2.resize(img, (IMG_HEIGHT, IMG_WIDTH),interpolation = cv2.INTER_AREA)\n",
        "\n",
        "            image=np.array(img)\n",
        "            image = image.astype('float32')\n",
        "            image /= 255\n",
        "            train_image_3d_array[:,:,train] = image\n",
        "            train_class_name.append(dir1)\n",
        "            i = i + 1\n",
        "            train += 1\n",
        "\n",
        "\n",
        "test_image_3d_array = test_image_3d_array[:,:,0:test]\n",
        "train_image_3d_array = train_image_3d_array[:,:,0:train]\n",
        "\n",
        "test_target_dict = {k: v for v, k in enumerate(np.unique(test_class_name))}\n",
        "\n",
        "train_target_dict = {k: v for v, k in enumerate(np.unique(train_class_name))}\n",
        "\n",
        "test_target_val =  [test_target_dict[test_class_name[i]] for i in range(len(test_class_name))]\n",
        "train_target_val =  [train_target_dict[train_class_name[i]] for i in range(len(train_class_name))]\n",
        "\n",
        "test_labels = np.zeros((5,test))\n",
        "train_labels = np.zeros((5,train))\n",
        "\n",
        "for i in range(len(test_target_val)):\n",
        "    test_labels[test_target_val[i],i] = 1\n",
        "\n",
        "for i in range(len(train_target_val)):\n",
        "    train_labels[train_target_val[i],i] = 1\n",
        "\n",
        "print('training dataset size = ',train_image_3d_array.shape)\n",
        "print('testing dataset size = ',test_image_3d_array.shape)\n",
        "print('training labels size = ',train_labels.shape)\n",
        "print('testing labels size = ',test_labels.shape)\n",
        "\n",
        "print('All executed')\n"
      ],
      "execution_count": null,
      "outputs": [
        {
          "output_type": "error",
          "ename": "error",
          "evalue": "ignored",
          "traceback": [
            "\u001b[0;31m---------------------------------------------------------------------------\u001b[0m",
            "\u001b[0;31merror\u001b[0m                                     Traceback (most recent call last)",
            "\u001b[0;32m<ipython-input-11-7e6073858d9b>\u001b[0m in \u001b[0;36m<module>\u001b[0;34m()\u001b[0m\n\u001b[1;32m     40\u001b[0m             \u001b[0mimage_path\u001b[0m \u001b[0;34m=\u001b[0m \u001b[0mos\u001b[0m\u001b[0;34m.\u001b[0m\u001b[0mpath\u001b[0m\u001b[0;34m.\u001b[0m\u001b[0mjoin\u001b[0m\u001b[0;34m(\u001b[0m\u001b[0mimg_folder\u001b[0m\u001b[0;34m,\u001b[0m \u001b[0mdir1\u001b[0m\u001b[0;34m,\u001b[0m \u001b[0mfile\u001b[0m\u001b[0;34m)\u001b[0m\u001b[0;34m\u001b[0m\u001b[0;34m\u001b[0m\u001b[0m\n\u001b[1;32m     41\u001b[0m             \u001b[0mimg\u001b[0m \u001b[0;34m=\u001b[0m \u001b[0mcv2\u001b[0m\u001b[0;34m.\u001b[0m\u001b[0mimread\u001b[0m\u001b[0;34m(\u001b[0m\u001b[0mimage_path\u001b[0m\u001b[0;34m)\u001b[0m\u001b[0;34m\u001b[0m\u001b[0;34m\u001b[0m\u001b[0m\n\u001b[0;32m---> 42\u001b[0;31m             \u001b[0mimg\u001b[0m \u001b[0;34m=\u001b[0m \u001b[0mcv2\u001b[0m\u001b[0;34m.\u001b[0m\u001b[0mcvtColor\u001b[0m\u001b[0;34m(\u001b[0m\u001b[0mimg\u001b[0m\u001b[0;34m,\u001b[0m \u001b[0mcv2\u001b[0m\u001b[0;34m.\u001b[0m\u001b[0mCOLOR_BGR2GRAY\u001b[0m\u001b[0;34m)\u001b[0m\u001b[0;34m\u001b[0m\u001b[0;34m\u001b[0m\u001b[0m\n\u001b[0m\u001b[1;32m     43\u001b[0m             \u001b[0mimg\u001b[0m \u001b[0;34m=\u001b[0m \u001b[0mcv2\u001b[0m\u001b[0;34m.\u001b[0m\u001b[0mresize\u001b[0m\u001b[0;34m(\u001b[0m\u001b[0mimg\u001b[0m\u001b[0;34m,\u001b[0m \u001b[0;34m(\u001b[0m\u001b[0mIMG_HEIGHT\u001b[0m\u001b[0;34m,\u001b[0m \u001b[0mIMG_WIDTH\u001b[0m\u001b[0;34m)\u001b[0m\u001b[0;34m,\u001b[0m\u001b[0minterpolation\u001b[0m \u001b[0;34m=\u001b[0m \u001b[0mcv2\u001b[0m\u001b[0;34m.\u001b[0m\u001b[0mINTER_AREA\u001b[0m\u001b[0;34m)\u001b[0m\u001b[0;34m\u001b[0m\u001b[0;34m\u001b[0m\u001b[0m\n\u001b[1;32m     44\u001b[0m \u001b[0;34m\u001b[0m\u001b[0m\n",
            "\u001b[0;31merror\u001b[0m: OpenCV(4.1.2) /io/opencv/modules/imgproc/src/color.cpp:182: error: (-215:Assertion failed) !_src.empty() in function 'cvtColor'\n"
          ]
        }
      ]
    },
    {
      "cell_type": "code",
      "metadata": {
        "id": "AxW7brbeZTR-"
      },
      "source": [
        "import pandas as pd\n",
        "import numpy as np\n",
        "import os\n",
        "import sys\n",
        "import cv2\n",
        "from  matplotlib import pyplot as plt\n",
        "import matplotlib.image as mpimg\n",
        "\n",
        "train_data = np.load('/content/drive/My Drive/EECS738/train_data.npy')\n",
        "train_data = train_data.transpose(2,1,0)\n",
        "test_data = np.load('/content/drive/My Drive/EECS738/test_data.npy')\n",
        "test_data = test_data.transpose(2,1,0)\n",
        "train_label = np.load('/content/drive/My Drive/EECS738/train_label.npy')\n",
        "train_label = train_label.transpose(1,0)\n",
        "test_label = np.load('/content/drive/My Drive/EECS738/test_label.npy')\n",
        "test_label = test_label.transpose(1,0)"
      ],
      "execution_count": 4,
      "outputs": []
    },
    {
      "cell_type": "code",
      "metadata": {
        "colab": {
          "base_uri": "https://localhost:8080/"
        },
        "id": "IQQ4oTvIZxPd",
        "outputId": "764702ac-8478-4091-f251-c0c006a63d35"
      },
      "source": [
        "print('training dataset size = ',train_data.shape)\n",
        "print('testing dataset size = ',test_data.shape)\n",
        "print('training labels size = ',train_label.shape)\n",
        "print('testing labels size = ',test_label.shape)"
      ],
      "execution_count": null,
      "outputs": [
        {
          "output_type": "stream",
          "text": [
            "training dataset size =  (3458, 128, 128)\n",
            "testing dataset size =  (865, 128, 128)\n",
            "training labels size =  (3458, 5)\n",
            "testing labels size =  (865, 5)\n"
          ],
          "name": "stdout"
        }
      ]
    },
    {
      "cell_type": "code",
      "metadata": {
        "colab": {
          "base_uri": "https://localhost:8080/",
          "height": 35
        },
        "id": "rgI_poSGy7CB",
        "outputId": "e6609d77-b8de-4638-b08e-1bcfc0f0454e"
      },
      "source": [
        "import tensorflow as tf\n",
        "tf.test.gpu_device_name()"
      ],
      "execution_count": null,
      "outputs": [
        {
          "output_type": "execute_result",
          "data": {
            "application/vnd.google.colaboratory.intrinsic+json": {
              "type": "string"
            },
            "text/plain": [
              "'/device:GPU:0'"
            ]
          },
          "metadata": {
            "tags": []
          },
          "execution_count": 14
        }
      ]
    },
    {
      "cell_type": "code",
      "metadata": {
        "id": "sUJChURi8uQd",
        "colab": {
          "base_uri": "https://localhost:8080/"
        },
        "outputId": "13340a68-b468-4ccd-8893-8981b08ec4e1"
      },
      "source": [
        "import tensorflow as tf\n",
        "import autokeras as ak\n",
        "# input_node = ak.ImageInput()\n",
        "# output_node = ak.normalization()(input_node)\n",
        "# output_node1 = ak.ConvBlock()(input_node)\n",
        "# output_node2 = ak.ResNetBlock(version=\"v2\")(input_node)\n",
        "# output_node3 = ak.XceptionBlock()(input_node)\n",
        "# # output_node3 = ak.DenseBlock()(output_node)\n",
        "# # output_node4 = ak.Embedding()(output_node)\n",
        "\n",
        "# output_node = ak.Merge()([output_node1, output_node2, output_node3])\n",
        "# output_node = ak.ClassificationHead()(output_node)\n",
        "\n",
        "input_node = ak.ImageInput()\n",
        "output_node = ak.ImageBlock(\n",
        "    # Only search ResNet architectures.\n",
        "    block_type=\"resnet\",\n",
        "    # Normalize the dataset.\n",
        "    normalize=False,\n",
        "    # Do not do data augmentation.\n",
        "    augment=True,\n",
        ")(input_node)\n",
        "output_node = ak.ClassificationHead()(output_node)\n",
        "\n",
        "auto_model = ak.AutoModel(\n",
        "    inputs=input_node, outputs=output_node, overwrite=True, max_trials=1\n",
        ")\n",
        "\n",
        "tensorboard_callback_train = keras.callbacks.TensorBoard(log_dir='log',histogram_freq=1,\n",
        "  write_images=True)\n",
        "# Feed the AutoModel with training data.\n",
        "auto_model.fit(train_data[:], train_label[:], epochs=50, callbacks=[tensorboard_callback_train])\n"
      ],
      "execution_count": 5,
      "outputs": [
        {
          "output_type": "stream",
          "text": [
            "Trial 1 Complete [00h 05m 04s]\n",
            "val_loss: 1.8009124994277954\n",
            "\n",
            "Best val_loss So Far: 1.8009124994277954\n",
            "Total elapsed time: 00h 05m 04s\n",
            "INFO:tensorflow:Oracle triggered exit\n",
            "Epoch 1/50\n",
            "109/109 [==============================] - 20s 143ms/step - loss: 17.8736 - accuracy: 0.7383\n",
            "Epoch 2/50\n",
            "109/109 [==============================] - 14s 128ms/step - loss: 16.0697 - accuracy: 0.4821\n",
            "Epoch 3/50\n",
            "109/109 [==============================] - 14s 127ms/step - loss: 7.5519 - accuracy: 0.2948\n",
            "Epoch 4/50\n",
            "109/109 [==============================] - 14s 126ms/step - loss: 6.9491 - accuracy: 0.4696\n",
            "Epoch 5/50\n",
            "109/109 [==============================] - 14s 126ms/step - loss: 5.5209 - accuracy: 0.0443\n",
            "Epoch 6/50\n",
            "109/109 [==============================] - 14s 127ms/step - loss: 3.3028 - accuracy: 0.1397\n",
            "Epoch 7/50\n",
            "109/109 [==============================] - 14s 126ms/step - loss: 3.2789 - accuracy: 0.5841\n",
            "Epoch 8/50\n",
            "109/109 [==============================] - 14s 126ms/step - loss: 5.0620 - accuracy: 0.4224\n",
            "Epoch 9/50\n",
            "109/109 [==============================] - 14s 126ms/step - loss: 6.0601 - accuracy: 0.2072\n",
            "Epoch 10/50\n",
            "109/109 [==============================] - 14s 126ms/step - loss: 3.2719 - accuracy: 0.2772\n",
            "Epoch 11/50\n",
            "109/109 [==============================] - 14s 126ms/step - loss: 2.5261 - accuracy: 0.0957\n",
            "Epoch 12/50\n",
            "109/109 [==============================] - 14s 127ms/step - loss: 2.1578 - accuracy: 0.2774\n",
            "Epoch 13/50\n",
            "109/109 [==============================] - 14s 127ms/step - loss: 2.2996 - accuracy: 0.2346\n",
            "Epoch 14/50\n",
            "109/109 [==============================] - 14s 127ms/step - loss: 2.0003 - accuracy: 0.2684\n",
            "Epoch 15/50\n",
            "109/109 [==============================] - 14s 127ms/step - loss: 1.8421 - accuracy: 0.2824\n",
            "Epoch 16/50\n",
            "109/109 [==============================] - 14s 126ms/step - loss: 1.7601 - accuracy: 0.1321\n",
            "Epoch 17/50\n",
            "109/109 [==============================] - 14s 127ms/step - loss: 2.7484 - accuracy: 0.4738\n",
            "Epoch 18/50\n",
            "109/109 [==============================] - 14s 127ms/step - loss: 2.6077 - accuracy: 0.2454\n",
            "Epoch 19/50\n",
            "109/109 [==============================] - 14s 126ms/step - loss: 2.5629 - accuracy: 0.1919\n",
            "Epoch 20/50\n",
            "109/109 [==============================] - 14s 127ms/step - loss: 2.1115 - accuracy: 0.1771\n",
            "Epoch 21/50\n",
            "109/109 [==============================] - 14s 126ms/step - loss: 2.2249 - accuracy: 0.2137\n",
            "Epoch 22/50\n",
            "109/109 [==============================] - 14s 126ms/step - loss: 2.0050 - accuracy: 0.2599\n",
            "Epoch 23/50\n",
            "109/109 [==============================] - 14s 126ms/step - loss: 1.7527 - accuracy: 0.2657\n",
            "Epoch 24/50\n",
            "109/109 [==============================] - 14s 126ms/step - loss: 1.7418 - accuracy: 0.2821\n",
            "Epoch 25/50\n",
            "109/109 [==============================] - 14s 126ms/step - loss: 1.7261 - accuracy: 0.2796\n",
            "Epoch 26/50\n",
            "109/109 [==============================] - 14s 126ms/step - loss: 1.6996 - accuracy: 0.2819\n",
            "Epoch 27/50\n",
            "109/109 [==============================] - 14s 126ms/step - loss: 1.6900 - accuracy: 0.2773\n",
            "Epoch 28/50\n",
            "109/109 [==============================] - 14s 126ms/step - loss: 1.6906 - accuracy: 0.2976\n",
            "Epoch 29/50\n",
            "109/109 [==============================] - 14s 125ms/step - loss: 1.7171 - accuracy: 0.2854\n",
            "Epoch 30/50\n",
            "109/109 [==============================] - 14s 126ms/step - loss: 1.7617 - accuracy: 0.1632\n",
            "Epoch 31/50\n",
            "109/109 [==============================] - 14s 125ms/step - loss: 1.9679 - accuracy: 0.1708\n",
            "Epoch 32/50\n",
            "109/109 [==============================] - 14s 126ms/step - loss: 2.1239 - accuracy: 0.3842\n",
            "Epoch 33/50\n",
            "109/109 [==============================] - 14s 126ms/step - loss: 4.5954 - accuracy: 0.8033\n",
            "Epoch 34/50\n",
            "109/109 [==============================] - 14s 125ms/step - loss: 6.5988 - accuracy: 0.2748\n",
            "Epoch 35/50\n",
            "109/109 [==============================] - 14s 126ms/step - loss: 2.4476 - accuracy: 0.2031\n",
            "Epoch 36/50\n",
            "109/109 [==============================] - 14s 126ms/step - loss: 2.3260 - accuracy: 0.2684\n",
            "Epoch 37/50\n",
            "109/109 [==============================] - 14s 126ms/step - loss: 2.1269 - accuracy: 0.2640\n",
            "Epoch 38/50\n",
            "109/109 [==============================] - 14s 126ms/step - loss: 2.3765 - accuracy: 0.2501\n",
            "Epoch 39/50\n",
            "109/109 [==============================] - 14s 126ms/step - loss: 2.1908 - accuracy: 0.1938\n",
            "Epoch 40/50\n",
            "109/109 [==============================] - 14s 126ms/step - loss: 2.1571 - accuracy: 0.3307\n",
            "Epoch 41/50\n",
            "109/109 [==============================] - 14s 126ms/step - loss: 2.0713 - accuracy: 0.2931\n",
            "Epoch 42/50\n",
            "109/109 [==============================] - 14s 127ms/step - loss: 1.9940 - accuracy: 0.2821\n",
            "Epoch 43/50\n",
            "109/109 [==============================] - 14s 126ms/step - loss: 1.8281 - accuracy: 0.1728\n",
            "Epoch 44/50\n",
            "109/109 [==============================] - 14s 126ms/step - loss: 1.8721 - accuracy: 0.2643\n",
            "Epoch 45/50\n",
            "109/109 [==============================] - 14s 126ms/step - loss: 1.8382 - accuracy: 0.2433\n",
            "Epoch 46/50\n",
            "109/109 [==============================] - 14s 126ms/step - loss: 2.0339 - accuracy: 0.1630\n",
            "Epoch 47/50\n",
            "109/109 [==============================] - 14s 126ms/step - loss: 1.8341 - accuracy: 0.2635\n",
            "Epoch 48/50\n",
            "109/109 [==============================] - 14s 126ms/step - loss: 1.7680 - accuracy: 0.2476\n",
            "Epoch 49/50\n",
            "109/109 [==============================] - 14s 126ms/step - loss: 1.7085 - accuracy: 0.2874\n",
            "Epoch 50/50\n",
            "109/109 [==============================] - 14s 126ms/step - loss: 2.1813 - accuracy: 0.2958\n",
            "INFO:tensorflow:Assets written to: ./auto_model/best_model/assets\n"
          ],
          "name": "stdout"
        }
      ]
    },
    {
      "cell_type": "code",
      "metadata": {
        "colab": {
          "base_uri": "https://localhost:8080/"
        },
        "id": "u0GlbnVt2rk3",
        "outputId": "493f2923-a62e-4ce7-e933-510ec5d6430f"
      },
      "source": [
        "\n",
        "# Predict with the best model.\n",
        "predicted_y = auto_model.predict(test_data)\n",
        "# Evaluate the best model with testing data.\n",
        "print(auto_model.evaluate(test_data, test_label))\n",
        "# get the best performing model\n",
        "model = auto_model.export_model()\n",
        "# summarize the loaded model\n",
        "model.summary()\n",
        "# save the best performing model to file\n",
        "model.save('model_clf.h5')\n",
        "# save results summary\n",
        "auto_model.tuner.results_summary()"
      ],
      "execution_count": 6,
      "outputs": [
        {
          "output_type": "stream",
          "text": [
            "28/28 [==============================] - 2s 42ms/step - loss: 1.8984 - accuracy: 0.2150\n",
            "[1.8984334468841553, 0.21502889692783356]\n",
            "Model: \"model\"\n",
            "__________________________________________________________________________________________________\n",
            "Layer (type)                    Output Shape         Param #     Connected to                     \n",
            "==================================================================================================\n",
            "input_1 (InputLayer)            [(None, 128, 128)]   0                                            \n",
            "__________________________________________________________________________________________________\n",
            "cast_to_float32 (CastToFloat32) (None, 128, 128)     0           input_1[0][0]                    \n",
            "__________________________________________________________________________________________________\n",
            "expand_last_dim (ExpandLastDim) (None, 128, 128, 1)  0           cast_to_float32[0][0]            \n",
            "__________________________________________________________________________________________________\n",
            "random_flip (RandomFlip)        (None, 128, 128, 1)  0           expand_last_dim[0][0]            \n",
            "__________________________________________________________________________________________________\n",
            "concatenate (Concatenate)       (None, 128, 128, 3)  0           random_flip[0][0]                \n",
            "                                                                 random_flip[0][0]                \n",
            "                                                                 random_flip[0][0]                \n",
            "__________________________________________________________________________________________________\n",
            "resnet50 (Functional)           (None, 4, 4, 2048)   23587712    concatenate[0][0]                \n",
            "__________________________________________________________________________________________________\n",
            "flatten (Flatten)               (None, 32768)        0           resnet50[0][0]                   \n",
            "__________________________________________________________________________________________________\n",
            "dense (Dense)                   (None, 5)            163845      flatten[0][0]                    \n",
            "__________________________________________________________________________________________________\n",
            "classification_head_1 (Softmax) (None, 5)            0           dense[0][0]                      \n",
            "==================================================================================================\n",
            "Total params: 23,751,557\n",
            "Trainable params: 23,698,437\n",
            "Non-trainable params: 53,120\n",
            "__________________________________________________________________________________________________\n",
            "Results summary\n",
            "Results in ./auto_model\n",
            "Showing 10 best trials\n",
            "Objective(name='val_loss', direction='min')\n",
            "Trial summary\n",
            "Hyperparameters:\n",
            "image_block_1/image_augmentation_1/translation_factor: 0.0\n",
            "image_block_1/image_augmentation_1/horizontal_flip: True\n",
            "image_block_1/image_augmentation_1/vertical_flip: True\n",
            "image_block_1/image_augmentation_1/rotation_factor: 0.0\n",
            "image_block_1/image_augmentation_1/zoom_factor: 0.0\n",
            "image_block_1/image_augmentation_1/contrast_factor: 0.0\n",
            "image_block_1/res_net_block_1/pretrained: False\n",
            "image_block_1/res_net_block_1/version: resnet50\n",
            "image_block_1/res_net_block_1/imagenet_size: False\n",
            "classification_head_1/spatial_reduction_1/reduction_type: flatten\n",
            "classification_head_1/dropout: 0\n",
            "optimizer: adam\n",
            "learning_rate: 0.001\n",
            "Score: 1.8009124994277954\n"
          ],
          "name": "stdout"
        }
      ]
    }
  ]
}